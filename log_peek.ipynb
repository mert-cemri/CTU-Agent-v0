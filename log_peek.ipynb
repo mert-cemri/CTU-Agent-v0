{
 "cells": [
  {
   "cell_type": "code",
   "execution_count": 15,
   "id": "b051e90e",
   "metadata": {},
   "outputs": [
    {
     "name": "stdout",
     "output_type": "stream",
     "text": [
      "Loaded 50 records from /mnt/task_runtime/CTU-Agent-v0/exports/tau_bench_retail/dumped_evals/global_step_0_evals/test_airline/airline.jsonl\n"
     ]
    }
   ],
   "source": [
    "import json\n",
    "\n",
    "data_path = \"/mnt/task_runtime/CTU-Agent-v0/exports/tau_bench_retail/dumped_evals/global_step_0_evals/test_airline/airline.jsonl\"\n",
    "with open(data_path, 'r') as f:\n",
    "    airline_data = [json.loads(line) for line in f]\n",
    "print(f\"Loaded {len(airline_data)} records from {data_path}\")"
   ]
  },
  {
   "cell_type": "code",
   "execution_count": 16,
   "id": "97e9136a",
   "metadata": {},
   "outputs": [
    {
     "name": "stdout",
     "output_type": "stream",
     "text": [
      "Loaded 115 records from /mnt/task_runtime/CTU-Agent-v0/exports/tau_bench_retail/dumped_evals/global_step_0_evals/test_retail/retail.jsonl\n"
     ]
    }
   ],
   "source": [
    "import json\n",
    "\n",
    "data_path = \"/mnt/task_runtime/CTU-Agent-v0/exports/tau_bench_retail/dumped_evals/global_step_0_evals/test_retail/retail.jsonl\"\n",
    "with open(data_path, 'r') as f:\n",
    "    retail_data = [json.loads(line) for line in f]\n",
    "print(f\"Loaded {len(retail_data)} records from {data_path}\")"
   ]
  },
  {
   "cell_type": "code",
   "execution_count": 17,
   "id": "263be0de",
   "metadata": {},
   "outputs": [
    {
     "name": "stdout",
     "output_type": "stream",
     "text": [
      "Total airline score: 8.0\n",
      "Average airline score: 0.16\n"
     ]
    }
   ],
   "source": [
    "total_airline_score = sum(item['score'] for item in airline_data)\n",
    "print(f\"Total airline score: {total_airline_score}\")\n",
    "print(f\"Average airline score: {total_airline_score / len(airline_data)}\")"
   ]
  },
  {
   "cell_type": "code",
   "execution_count": 18,
   "id": "c69c92ea",
   "metadata": {},
   "outputs": [
    {
     "data": {
      "text/plain": [
       "{'stop': 50}"
      ]
     },
     "execution_count": 18,
     "metadata": {},
     "output_type": "execute_result"
    }
   ],
   "source": [
    "stop_reasons = set(item['stop_reason'] for item in airline_data)\n",
    "stop_reason_dict = {reason: 0 for reason in stop_reasons}\n",
    "for i in range(50):\n",
    "    stop_reason_dict[airline_data[i]['stop_reason']] += 1\n",
    "stop_reason_dict"
   ]
  },
  {
   "cell_type": "code",
   "execution_count": null,
   "id": "d9c469b1",
   "metadata": {},
   "outputs": [
    {
     "name": "stdout",
     "output_type": "stream",
     "text": [
      "Total retail score: 4.0\n",
      "Average retail score: 0.034782608695652174\n"
     ]
    }
   ],
   "source": [
    "total_retail_score = sum(item['score'] for item in retail_data)\n",
    "print(f\"Total retail score: {total_retail_score}\")\n",
    "print(f\"Average retail score: {total_retail_score / len(retail_data)}\")"
   ]
  },
  {
   "cell_type": "code",
   "execution_count": 20,
   "id": "04a76a16",
   "metadata": {},
   "outputs": [
    {
     "data": {
      "text/plain": [
       "dict_keys(['input_prompt', 'output_response', 'score', 'stop_reason', 'env_class', 'env_extras', 'data_source'])"
      ]
     },
     "execution_count": 20,
     "metadata": {},
     "output_type": "execute_result"
    }
   ],
   "source": [
    "retail_data[0].keys()"
   ]
  },
  {
   "cell_type": "code",
   "execution_count": 21,
   "id": "cf772307",
   "metadata": {},
   "outputs": [],
   "source": [
    "stop_reasons = set(item['stop_reason'] for item in retail_data)\n",
    "stop_reason_dict = {reason: 0 for reason in stop_reasons}\n",
    "for i in range(115):\n",
    "    stop_reason_dict[retail_data[i]['stop_reason']] += 1"
   ]
  },
  {
   "cell_type": "code",
   "execution_count": 22,
   "id": "36ed2a05",
   "metadata": {},
   "outputs": [
    {
     "data": {
      "text/plain": [
       "{'stop': 115}"
      ]
     },
     "execution_count": 22,
     "metadata": {},
     "output_type": "execute_result"
    }
   ],
   "source": [
    "stop_reason_dict"
   ]
  },
  {
   "cell_type": "code",
   "execution_count": 23,
   "id": "ae7b873c",
   "metadata": {},
   "outputs": [
    {
     "data": {
      "text/plain": [
       "dict_keys(['input_prompt', 'output_response', 'score', 'stop_reason', 'env_class', 'env_extras', 'data_source'])"
      ]
     },
     "execution_count": 23,
     "metadata": {},
     "output_type": "execute_result"
    }
   ],
   "source": [
    "retail_data[0].keys()"
   ]
  },
  {
   "cell_type": "code",
   "execution_count": 27,
   "id": "ad761928",
   "metadata": {},
   "outputs": [
    {
     "data": {
      "text/plain": [
       "dict_keys(['data_source', 'reward_spec', 'extra_info', 'max_turns'])"
      ]
     },
     "execution_count": 27,
     "metadata": {},
     "output_type": "execute_result"
    }
   ],
   "source": [
    "retail_data[0]['env_extras'].keys()"
   ]
  },
  {
   "cell_type": "code",
   "execution_count": 33,
   "id": "7bcfd95b",
   "metadata": {},
   "outputs": [
    {
     "data": {
      "text/plain": [
       "'<|im_start|>system\\nYou are a retail customer service representative. You help customers with product inquiries, orders, returns, and general shopping assistance.\\n\\nYour responsibilities include:\\n- Helping customers find products and check availability\\n- Assisting with order placement, modifications, and tracking\\n- Processing returns, exchanges, and refunds\\n- Managing customer accounts and addresses\\n- Resolving product and service issues\\n\\nAlways provide friendly and knowledgeable assistance to ensure customer satisfaction.\\n\\nTool Usage Guidelines:\\n- You have access to various tools to help customers\\n- When you need to use a tool, respond with JSON format: {\"name\": \"tool_name\", \"arguments\": {\"param\": \"value\"}}\\n- Use tools appropriately based on customer needs\\n- Always verify information before making changes\\n- If a tool operation fails, explain the issue and suggest alternatives\\n- For simple responses that don\\'t require tools, respond naturally\\n\\nRemember to be helpful, professional, and accurate in all interactions.\\n\\n\\nYou are a helpful assistant for retail customer service. You have access to various tools to help customers.\\n\\nAvailable tools:\\n{\\n  \"name\": \"calculate\",\\n  \"description\": \"Calculate the result of a mathematical expression.\",\\n  \"parameters\": {\\n    \"type\": \"object\",\\n    \"properties\": {\\n      \"expression\": {\\n        \"type\": \"string\",\\n        \"description\": \"The mathematical expression to calculate, such as \\'2 + 2\\'. The expression can contain numbers, operators (+, -, *, /), parentheses, and spaces.\"\\n      }\\n    },\\n    \"required\": [\\n      \"expression\"\\n    ]\\n  }\\n}\\n\\n{\\n  \"name\": \"cancel_pending_order\",\\n  \"description\": \"Cancel a pending order. If the order is already processed or delivered, it cannot be cancelled. The agent needs to explain the cancellation detail and ask for explicit user confirmation (yes/no) to proceed. If the user confirms, the order status will be changed to \\'cancelled\\' and the payment will be refunded. The refund will be added to the user\\'s gift card balance immediately if the payment was made using a gift card, otherwise the refund would take 5-7 business days to process. The function returns the order details after the cancellation.\",\\n  \"parameters\": {\\n    \"type\": \"object\",\\n    \"properties\": {\\n      \"order_id\": {\\n        \"type\": \"string\",\\n        \"description\": \"The order id, such as \\'#W0000000\\'. Be careful there is a \\'#\\' symbol at the beginning of the order id.\"\\n      },\\n      \"reason\": {\\n        \"type\": \"string\",\\n        \"enum\": [\\n          \"no longer needed\",\\n          \"ordered by mistake\"\\n        ],\\n        \"description\": \"The reason for cancellation, which should be either \\'no longer needed\\' or \\'ordered by mistake\\'.\"\\n      }\\n    },\\n    \"required\": [\\n      \"order_id\",\\n      \"reason\"\\n    ]\\n  }\\n}\\n\\n{\\n  \"name\": \"exchange_delivered_order_items\",\\n  \"description\": \"Exchange items in a delivered order to new items of the same product type. For a delivered order, return or exchange can be only done once by the agent. The agent needs to explain the exchange detail and ask for explicit user confirmation (yes/no) to proceed.\",\\n  \"parameters\": {\\n    \"type\": \"object\",\\n    \"properties\": {\\n      \"order_id\": {\\n        \"type\": \"string\",\\n        \"description\": \"The order id, such as \\'#W0000000\\'. Be careful there is a \\'#\\' symbol at the beginning of the order id.\"\\n      },\\n      \"item_ids\": {\\n        \"type\": \"array\",\\n        \"items\": {\\n          \"type\": \"string\"\\n        },\\n        \"description\": \"The item ids to be exchanged, each such as \\'1008292230\\'. There could be duplicate items in the list.\"\\n      },\\n      \"new_item_ids\": {\\n        \"type\": \"array\",\\n        \"items\": {\\n          \"type\": \"string\"\\n        },\\n        \"description\": \"The item ids to be exchanged for, each such as \\'1008292230\\'. There could be duplicate items in the list. Each new item id should match the item id in the same position and be of the same product.\"\\n      },\\n      \"payment_method_id\": {\\n        \"type\": \"string\",\\n        \"description\": \"The payment method id to pay or receive refund for the item price difference, such as \\'gift_card_0000000\\' or \\'credit_card_0000000\\'. These can be looked up from the user or order details.\"\\n      }\\n    },\\n    \"required\": [\\n      \"order_id\",\\n      \"item_ids\",\\n      \"new_item_ids\",\\n      \"payment_method_id\"\\n    ]\\n  }\\n}\\n\\n{\\n  \"name\": \"find_user_id_by_email\",\\n  \"description\": \"Find user id by email. If the user is not found, the function will return an error message.\",\\n  \"parameters\": {\\n    \"type\": \"object\",\\n    \"properties\": {\\n      \"email\": {\\n        \"type\": \"string\",\\n        \"description\": \"The email of the user, such as \\'something@example.com\\'.\"\\n      }\\n    },\\n    \"required\": [\\n      \"email\"\\n    ]\\n  }\\n}\\n\\n{\\n  \"name\": \"find_user_id_by_name_zip\",\\n  \"description\": \"Find user id by first name, last name, and zip code. If the user is not found, the function will return an error message. By default, find user id by email, and only call this function if the user is not found by email or cannot remember email.\",\\n  \"parameters\": {\\n    \"type\": \"object\",\\n    \"properties\": {\\n      \"first_name\": {\\n        \"type\": \"string\",\\n        \"description\": \"The first name of the customer, such as \\'John\\'.\"\\n      },\\n      \"last_name\": {\\n        \"type\": \"string\",\\n        \"description\": \"The last name of the customer, such as \\'Doe\\'.\"\\n      },\\n      \"zip\": {\\n        \"type\": \"string\",\\n        \"description\": \"The zip code of the customer, such as \\'12345\\'.\"\\n      }\\n    },\\n    \"required\": [\\n      \"first_name\",\\n      \"last_name\",\\n      \"zip\"\\n    ]\\n  }\\n}\\n\\n{\\n  \"name\": \"get_order_details\",\\n  \"description\": \"Get the status and details of an order.\",\\n  \"parameters\": {\\n    \"type\": \"object\",\\n    \"properties\": {\\n      \"order_id\": {\\n        \"type\": \"string\",\\n        \"description\": \"The order id, such as \\'#W0000000\\'. Be careful there is a \\'#\\' symbol at the beginning of the order id.\"\\n      }\\n    },\\n    \"required\": [\\n      \"order_id\"\\n    ]\\n  }\\n}\\n\\n{\\n  \"name\": \"get_product_details\",\\n  \"description\": \"Get the inventory details of a product.\",\\n  \"parameters\": {\\n    \"type\": \"object\",\\n    \"properties\": {\\n      \"product_id\": {\\n        \"type\": \"string\",\\n        \"description\": \"The product id, such as \\'6086499569\\'. Be careful the product id is different from the item id.\"\\n      }\\n    },\\n    \"required\": [\\n      \"product_id\"\\n    ]\\n  }\\n}\\n\\n{\\n  \"name\": \"get_user_details\",\\n  \"description\": \"Get the details of a user, including their orders.\",\\n  \"parameters\": {\\n    \"type\": \"object\",\\n    \"properties\": {\\n      \"user_id\": {\\n        \"type\": \"string\",\\n        \"description\": \"The user id, such as \\'sara_doe_496\\'.\"\\n      }\\n    },\\n    \"required\": [\\n      \"user_id\"\\n    ]\\n  }\\n}\\n\\n{\\n  \"name\": \"list_all_product_types\",\\n  \"description\": \"List the name and product id of all product types. Each product type has a variety of different items with unique item ids and options. There are only 50 product types in the store.\",\\n  \"parameters\": {\\n    \"type\": \"object\",\\n    \"properties\": {},\\n    \"required\": []\\n  }\\n}\\n\\n{\\n  \"name\": \"modify_pending_order_address\",\\n  \"description\": \"Modify the shipping address of a pending order. The agent needs to explain the modification detail and ask for explicit user confirmation (yes/no) to proceed.\",\\n  \"parameters\": {\\n    \"type\": \"object\",\\n    \"properties\": {\\n      \"order_id\": {\\n        \"type\": \"string\",\\n        \"description\": \"The order id, such as \\'#W0000000\\'. Be careful there is a \\'#\\' symbol at the beginning of the order id.\"\\n      },\\n      \"address1\": {\\n        \"type\": \"string\",\\n        \"description\": \"The first line of the address, such as \\'123 Main St\\'.\"\\n      },\\n      \"address2\": {\\n        \"type\": \"string\",\\n        \"description\": \"The second line of the address, such as \\'Apt 1\\' or \\'\\'.\"\\n      },\\n      \"city\": {\\n        \"type\": \"string\",\\n        \"description\": \"The city, such as \\'San Francisco\\'.\"\\n      },\\n      \"state\": {\\n        \"type\": \"string\",\\n        \"description\": \"The state, such as \\'CA\\'.\"\\n      },\\n      \"country\": {\\n        \"type\": \"string\",\\n        \"description\": \"The country, such as \\'USA\\'.\"\\n      },\\n      \"zip\": {\\n        \"type\": \"string\",\\n        \"description\": \"The zip code, such as \\'12345\\'.\"\\n      }\\n    },\\n    \"required\": [\\n      \"order_id\",\\n      \"address1\",\\n      \"address2\",\\n      \"city\",\\n      \"state\",\\n      \"country\",\\n      \"zip\"\\n    ]\\n  }\\n}\\n\\n{\\n  \"name\": \"modify_pending_order_items\",\\n  \"description\": \"Modify items in a pending order to new items of the same product type. For a pending order, this function can only be called once. The agent needs to explain the exchange detail and ask for explicit user confirmation (yes/no) to proceed.\",\\n  \"parameters\": {\\n    \"type\": \"object\",\\n    \"properties\": {\\n      \"order_id\": {\\n        \"type\": \"string\",\\n        \"description\": \"The order id, such as \\'#W0000000\\'. Be careful there is a \\'#\\' symbol at the beginning of the order id.\"\\n      },\\n      \"item_ids\": {\\n        \"type\": \"array\",\\n        \"items\": {\\n          \"type\": \"string\"\\n        },\\n        \"description\": \"The item ids to be modified, each such as \\'1008292230\\'. There could be duplicate items in the list.\"\\n      },\\n      \"new_item_ids\": {\\n        \"type\": \"array\",\\n        \"items\": {\\n          \"type\": \"string\"\\n        },\\n        \"description\": \"The item ids to be modified for, each such as \\'1008292230\\'. There could be duplicate items in the list. Each new item id should match the item id in the same position and be of the same product.\"\\n      },\\n      \"payment_method_id\": {\\n        \"type\": \"string\",\\n        \"description\": \"The payment method id to pay or receive refund for the item price difference, such as \\'gift_card_0000000\\' or \\'credit_card_0000000\\'. These can be looked up from the user or order details.\"\\n      }\\n    },\\n    \"required\": [\\n      \"order_id\",\\n      \"item_ids\",\\n      \"new_item_ids\",\\n      \"payment_method_id\"\\n    ]\\n  }\\n}\\n\\n{\\n  \"name\": \"modify_pending_order_payment\",\\n  \"description\": \"Modify the payment method of a pending order. The agent needs to explain the modification detail and ask for explicit user confirmation (yes/no) to proceed.\",\\n  \"parameters\": {\\n    \"type\": \"object\",\\n    \"properties\": {\\n      \"order_id\": {\\n        \"type\": \"string\",\\n        \"description\": \"The order id, such as \\'#W0000000\\'. Be careful there is a \\'#\\' symbol at the beginning of the order id.\"\\n      },\\n      \"payment_method_id\": {\\n        \"type\": \"string\",\\n        \"description\": \"The payment method id to pay or receive refund for the item price difference, such as \\'gift_card_0000000\\' or \\'credit_card_0000000\\'. These can be looked up from the user or order details.\"\\n      }\\n    },\\n    \"required\": [\\n      \"order_id\",\\n      \"payment_method_id\"\\n    ]\\n  }\\n}\\n\\n{\\n  \"name\": \"modify_user_address\",\\n  \"description\": \"Modify the default address of a user. The agent needs to explain the modification detail and ask for explicit user confirmation (yes/no) to proceed.\",\\n  \"parameters\": {\\n    \"type\": \"object\",\\n    \"properties\": {\\n      \"user_id\": {\\n        \"type\": \"string\",\\n        \"description\": \"The user id, such as \\'sara_doe_496\\'.\"\\n      },\\n      \"address1\": {\\n        \"type\": \"string\",\\n        \"description\": \"The first line of the address, such as \\'123 Main St\\'.\"\\n      },\\n      \"address2\": {\\n        \"type\": \"string\",\\n        \"description\": \"The second line of the address, such as \\'Apt 1\\' or \\'\\'.\"\\n      },\\n      \"city\": {\\n        \"type\": \"string\",\\n        \"description\": \"The city, such as \\'San Francisco\\'.\"\\n      },\\n      \"state\": {\\n        \"type\": \"string\",\\n        \"description\": \"The state, such as \\'CA\\'.\"\\n      },\\n      \"country\": {\\n        \"type\": \"string\",\\n        \"description\": \"The country, such as \\'USA\\'.\"\\n      },\\n      \"zip\": {\\n        \"type\": \"string\",\\n        \"description\": \"The zip code, such as \\'12345\\'.\"\\n      }\\n    },\\n    \"required\": [\\n      \"user_id\",\\n      \"address1\",\\n      \"address2\",\\n      \"city\",\\n      \"state\",\\n      \"country\",\\n      \"zip\"\\n    ]\\n  }\\n}\\n\\n{\\n  \"name\": \"return_delivered_order_items\",\\n  \"description\": \"Return some items of a delivered order. The order status will be changed to \\'return requested\\'. The agent needs to explain the return detail and ask for explicit user confirmation (yes/no) to proceed. The user will receive follow-up email for how and where to return the item.\",\\n  \"parameters\": {\\n    \"type\": \"object\",\\n    \"properties\": {\\n      \"order_id\": {\\n        \"type\": \"string\",\\n        \"description\": \"The order id, such as \\'#W0000000\\'. Be careful there is a \\'#\\' symbol at the beginning of the order id.\"\\n      },\\n      \"item_ids\": {\\n        \"type\": \"array\",\\n        \"items\": {\\n          \"type\": \"string\"\\n        },\\n        \"description\": \"The item ids to be returned, each such as \\'1008292230\\'. There could be duplicate items in the list.\"\\n      },\\n      \"payment_method_id\": {\\n        \"type\": \"string\",\\n        \"description\": \"The payment method id to pay or receive refund for the item price difference, such as \\'gift_card_0000000\\' or \\'credit_card_0000000\\'. These can be looked up from the user or order details.\"\\n      }\\n    },\\n    \"required\": [\\n      \"order_id\",\\n      \"item_ids\",\\n      \"payment_method_id\"\\n    ]\\n  }\\n}\\n\\n{\\n  \"name\": \"think\",\\n  \"description\": \"Use the tool to think about something. It will not obtain new information or change the database, but just append the thought to the log. Use it when complex reasoning or some cache memory is needed.\",\\n  \"parameters\": {\\n    \"type\": \"object\",\\n    \"properties\": {\\n      \"thought\": {\\n        \"type\": \"string\",\\n        \"description\": \"A thought to think about.\"\\n      }\\n    },\\n    \"required\": [\\n      \"thought\"\\n    ]\\n  }\\n}\\n\\n{\\n  \"name\": \"transfer_to_human_agents\",\\n  \"description\": \"Transfer the user to a human agent, with a summary of the user\\'s issue. Only transfer if the user explicitly asks for a human agent, or if the user\\'s issue cannot be resolved by the agent with the available tools.\",\\n  \"parameters\": {\\n    \"type\": \"object\",\\n    \"properties\": {\\n      \"summary\": {\\n        \"type\": \"string\",\\n        \"description\": \"A summary of the user\\'s issue.\"\\n      }\\n    },\\n    \"required\": [\\n      \"summary\"\\n    ]\\n  }\\n}\\n\\nCRITICAL INSTRUCTIONS FOR TOOL USAGE:\\nYou MUST respond in one of these two ways:\\n\\n1. For regular conversation (no tool needed):\\n   Simply respond with helpful text.\\n\\n2. For tool usage:\\n   Output ONLY a valid JSON object with this EXACT structure:\\n   {\"tool_calls\": [{\"function\": {\"name\": \"tool_name\", \"arguments\": \"{\\\\\"param\\\\\": \\\\\"value\\\\\"}\"}}]}\\n\\nIMPORTANT: \\n- The \"arguments\" field must be a JSON string (not a JSON object)\\n- Do NOT add any text before or after the JSON when using tools\\n- Do NOT use markdown code blocks\\n- Do NOT include <|im_end|> or any other tokens\\n\\nEXAMPLES OF CORRECT USAGE:\\n\\nExample 1 - Finding a user by name and zip:\\nUser: My name is Yusuf Rossi and my zip is 19122. I need help with my order.\\nAssistant: {\"tool_calls\": [{\"function\": {\"name\": \"find_user_id_by_name_zip\", \"arguments\": \"{\\\\\"first_name\\\\\": \\\\\"Yusuf\\\\\", \\\\\"last_name\\\\\": \\\\\"Rossi\\\\\", \\\\\"zip\\\\\": \\\\\"19122\\\\\"}\"}}]}\\n\\nExample 2 - Getting user details:\\nUser: [Previous tool returned user_id: yusuf_rossi_9620]\\nAssistant: {\"tool_calls\": [{\"function\": {\"name\": \"get_user_details\", \"arguments\": \"{\\\\\"user_id\\\\\": \\\\\"yusuf_rossi_9620\\\\\"}\"}}]}\\n\\nExample 3 - Getting order details:\\nUser: [User has order #W4776164]\\nAssistant: {\"tool_calls\": [{\"function\": {\"name\": \"get_order_details\", \"arguments\": \"{\\\\\"order_id\\\\\": \\\\\"#W4776164\\\\\"}\"}}]}\\n\\nExample 4 - Regular conversation (no tool):\\nUser: Thank you for your help!\\nAssistant: You\\'re welcome! Is there anything else I can help you with today?\\n\\nExample 5 - Canceling an order:\\nUser: I want to cancel order #W2989580\\nAssistant: {\"tool_calls\": [{\"function\": {\"name\": \"cancel_pending_order\", \"arguments\": \"{\\\\\"order_id\\\\\": \\\\\"#W2989580\\\\\"}\"}}]}\\n\\nRemember: When you need to use a tool, output ONLY the JSON object, nothing else!\\n<|im_end|>\\n<|im_start|>user\\nHello! I\\'d like to exchange a couple of items from my recent order.<|im_end|>\\n'"
      ]
     },
     "execution_count": 33,
     "metadata": {},
     "output_type": "execute_result"
    }
   ],
   "source": [
    "retail_data[0]['input_prompt']"
   ]
  },
  {
   "cell_type": "code",
   "execution_count": 35,
   "id": "076c6e25",
   "metadata": {},
   "outputs": [
    {
     "name": "stdout",
     "output_type": "stream",
     "text": [
      "<|im_start|>assistant\n",
      "{\"tool_calls\": [{\"function\": {\"name\": \"exchange_delivered_order_items\", \"arguments\": \"{\\\"order_id\\\": \\\"#W0000000\\\", \\\"item_ids\\\": [\\\"1008292230\\\", \\\"1008292231\\\"], \\\"new_item_ids\\\": [\\\"1008292230\\\", \\\"1008292231\\\"], \\\"payment_method_id\\\": \\\"credit_card_0000000\\\"}\"}}]}<|im_end|>\n",
      "<|im_start|>assistant\n",
      "I seem to have encountered an issue. It looks like the order you're trying to exchange doesn't exist. Could you please provide me with the correct order ID so I can assist you better?<|im_end|>\n",
      "<|im_start|>assistant\n",
      "{\"tool_calls\": [{\"function\": {\"name\": \"get_user_details\", \"arguments\": \"{\\\"user_id\\\": \\\"sara_doe_496\\\"}\"}}]}<|im_end|>\n",
      "<|im_start|>assistant\n",
      "It appears there was an error. Could you please provide me with your email or any other identifying information so I can locate your order?<|im_end|>\n",
      "<|im_start|>assistant\n",
      "{\"tool_calls\": [{\"function\": {\"name\": \"find_user_id_by_name_zip\", \"arguments\": \"{\\\"first_name\\\": \\\"Yusuf\\\", \\\"last_name\\\": \\\"Rossi\\\", \\\"zip\\\": \\\"19122\\\"}\"}}]}<|im_end|>\n",
      "<|im_start|>assistant\n",
      "I found your user ID. Let me fetch your most recent order details to help you with the exchange.\n",
      "\n",
      "{\"tool_calls\": [{\"function\": {\"name\": \"get_order_details\", \"arguments\": \"{\\\"order_id\\\": \\\"#W0000000\\\"}\"}}]}<|im_end|>\n",
      "<|im_start|>assistant\n",
      "{\"tool_calls\": [{\"function\": {\"name\": \"exchange_delivered_order_items\", \"arguments\": \"{\\\"order_id\\\": \\\"#W0000000\\\", \\\"item_ids\\\": [\\\"1008292230\\\", \\\"1008292231\\\"], \\\"new_item_ids\\\": [\\\"1008292230\\\", \\\"1008292231\\\"], \\\"payment_method_id\\\": \\\"credit_card_0000000\\\"}\"}}]}<|im_end|>\n",
      "<|im_start|>assistant\n",
      "I'm sorry, but it seems there was an issue locating your order. Let's try a different approach. Could you please provide me with the order ID so I can assist you with the exchange? If you're unsure, we can also use your email to find the order details.<|im_end|>\n",
      "<|im_start|>assistant\n",
      "{\"tool_calls\": [{\"function\": {\"name\": \"find_user_id_by_email\", \"arguments\": {\"email\": \"yusuf.rossi@example.com\"}}}]}<|im_end|>\n",
      "<|im_start|>assistant\n",
      "It seems there was an error finding your user ID. Let's try another method. Could you please provide me with your first name, last name, and zip code? I can use that information to locate your order.<|im_end|>\n",
      "\n"
     ]
    }
   ],
   "source": [
    "print(retail_data[0]['output_response'])"
   ]
  }
 ],
 "metadata": {
  "kernelspec": {
   "display_name": "ctu",
   "language": "python",
   "name": "python3"
  },
  "language_info": {
   "codemirror_mode": {
    "name": "ipython",
    "version": 3
   },
   "file_extension": ".py",
   "mimetype": "text/x-python",
   "name": "python",
   "nbconvert_exporter": "python",
   "pygments_lexer": "ipython3",
   "version": "3.12.11"
  }
 },
 "nbformat": 4,
 "nbformat_minor": 5
}
